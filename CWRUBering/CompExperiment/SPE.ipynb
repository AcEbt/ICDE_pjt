{
 "cells": [
  {
   "cell_type": "code",
   "execution_count": 34,
   "id": "entire-indie",
   "metadata": {},
   "outputs": [],
   "source": [
    "import os\n",
    "import numpy as np\n",
    "import pandas as pd\n",
    "import sys\n",
    "import sklearn\n",
    "\n",
    "#import scipy.io as io\n",
    "import os.path\n",
    "import matplotlib.pyplot as plt\n",
    "from tqdm import tqdm\n",
    "from scipy.stats import f"
   ]
  },
  {
   "cell_type": "code",
   "execution_count": 4,
   "id": "unusual-israeli",
   "metadata": {},
   "outputs": [],
   "source": [
    "np.random.seed(10)"
   ]
  },
  {
   "cell_type": "code",
   "execution_count": 317,
   "id": "sound-value",
   "metadata": {},
   "outputs": [],
   "source": [
    "def read_dataset(dataset_name, N_train):\n",
    "    \n",
    "    base_dir = os.path.dirname(os.path.realpath('__file__'))\n",
    "    archive_name = 'UCRArchive'\n",
    "    \n",
    "    root_dir_dataset = base_dir + '/' + archive_name + '/' + dataset_name\n",
    "    \n",
    "    df_train = pd.read_csv(root_dir_dataset + '/' + dataset_name + '_TRAIN.tsv', sep='\\t', header=None)\n",
    "    \n",
    "    df_test = pd.read_csv(root_dir_dataset + '/' + dataset_name + '_TEST.tsv', sep='\\t', header=None)\n",
    "    \n",
    "    y_train = df_train.values[:, 0]\n",
    "    y_test = df_test.values[:, 0]\n",
    "    \n",
    "    x_train = df_train.drop(columns=[0])\n",
    "    x_test = df_test.drop(columns=[0])\n",
    "    \n",
    "    x_train.columns = range(x_train.shape[1])\n",
    "    x_test.columns = range(x_test.shape[1])\n",
    "    \n",
    "    x_train = x_train.values\n",
    "    x_test = x_test.values\n",
    "    \n",
    "    \n",
    "    labels = np.hstack((y_train, y_test)).astype(int)\n",
    "    _, labels = np.unique(labels, return_inverse=True)\n",
    "    features = np.vstack((x_train, x_test))\n",
    "    \n",
    "    n_ = features.shape[0]\n",
    "    shuffle_id = np.random.permutation(np.arange(n_))\n",
    "    Dataset = features[shuffle_id]\n",
    "    label = labels[shuffle_id]\n",
    "    \n",
    "    N, D = features.shape\n",
    "        \n",
    "    normal_data = Dataset[label==0]\n",
    "    normal_labels = label[label==0]\n",
    "\n",
    "    N_normal = normal_data.shape[0]\n",
    "\n",
    "    attack_data = Dataset[label==1]\n",
    "    attack_labels = label[label==1]\n",
    "\n",
    "    N_attack = attack_data.shape[0]\n",
    "\n",
    "    randIdx = np.arange(N_attack)\n",
    "    np.random.shuffle(randIdx)\n",
    "\n",
    "    train_data = attack_data[randIdx[:N_train]]\n",
    "    train_labels = attack_labels[randIdx[:N_train]]\n",
    "    \n",
    "    test_data = attack_data[randIdx[N_train:]]\n",
    "    test_labels = attack_labels[randIdx[N_train:]]\n",
    "    \n",
    "    test_data = np.concatenate((test_data, normal_data),axis=0)\n",
    "    test_labels = np.concatenate((test_labels, normal_labels),axis=0)\n",
    "    \n",
    "    return Dataset,label,train_data,train_labels,test_data,test_labels"
   ]
  },
  {
   "cell_type": "code",
   "execution_count": 519,
   "id": "unable-astrology",
   "metadata": {},
   "outputs": [],
   "source": [
    "Result = {}"
   ]
  },
  {
   "cell_type": "code",
   "execution_count": 620,
   "id": "applied-sense",
   "metadata": {},
   "outputs": [
    {
     "name": "stdout",
     "output_type": "stream",
     "text": [
      "lambda： [84.239, 12.406, 9.134, 3.898, 3.008, 2.157, 1.843, 1.73, 1.304, 1.102, 0.971, 0.878, 0.843, 0.796, 0.698, 0.592, 0.566, 0.491, 0.484, 0.463, 0.366, 0.356, 0.333, 0.319, 0.247, 0.238, 0.231, 0.225, 0.194, 0.179, 0.17, 0.164, 0.141, 0.125, 0.121, 0.118, 0.109, 0.097, 0.095, 0.087, 0.08, 0.075, 0.071, 0.067, 0.065, 0.059, 0.054, 0.05, 0.047, 0.043, 0.042, 0.042, 0.039, 0.039, 0.036, 0.034, 0.032, 0.031, 0.029, 0.026, 0.024, 0.024, 0.022, 0.022, 0.018, 0.017, 0.017, 0.016, 0.013, 0.013, 0.011, 0.01, 0.009, 0.009, 0.009, 0.008, 0.007, 0.006, 0.006, 0.005, 0.004, 0.004, 0.004, 0.004, 0.003, 0.002, 0.002, 0.002, 0.001, 0.001, 0.001, 0.001, 0.001, 0.001, 0.001, 0.0, 0.0, 0.0, 0.0, 0.0, 0.0, 0.0, 0.0, 0.0, 0.0, 0.0, 0.0, 0.0, 0.0, 0.0, 0.0, 0.0, 0.0, 0.0, 0.0, 0.0, 0.0, 0.0, 0.0, 0.0, 0.0, 0.0, 0.0, 0.0, 0.0, 0.0, 0.0, 0.0, 0.0, 0.0, 0.0, 0.0, 0.0, 0.0, 0.0, 0.0, 0.0, 0.0, 0.0, 0.0, 0.0, 0.0, 0.0, 0.0, 0.0, 0.0, 0.0, 0.0, 0.0, 0.0, 0.0, 0.0]\n"
     ]
    }
   ],
   "source": [
    "dataset_name = 'Wafer'# 'ItalyPowerDemand'\n",
    "N_train = 3580\n",
    "\n",
    "Dataset,labels,train_data,train_labels,test_data,test_labels = read_dataset(dataset_name, N_train)\n",
    "N,L = Dataset.shape\n",
    "\n",
    "m = L  \n",
    "n = N_train\n",
    "\n",
    "S_mean = np.mean(train_data, axis=0)\n",
    "S_mean = np.array(S_mean)\n",
    "S_var = np.std(train_data, ddof=1)\n",
    "S_var = np.array(S_var)\n",
    "train_data -= S_mean\n",
    "train_data /= S_var\n",
    "train_data = np.where(train_data < 1e6, train_data, 0.0) \n",
    "X_new = train_data\n",
    "\n",
    "X_new = np.transpose(X_new)\n",
    "Z = np.dot(X_new, train_data / (n - 1))\n",
    "\n",
    "a, b = np.linalg.eig(Z)\n",
    "lambda1 = sorted(a, reverse=True)\n",
    "lambda_i = [round(i, 3) for i in lambda1]\n",
    "print('lambda：', lambda_i)"
   ]
  },
  {
   "cell_type": "code",
   "execution_count": 621,
   "id": "dress-syracuse",
   "metadata": {},
   "outputs": [
    {
     "name": "stderr",
     "output_type": "stream",
     "text": [
      "100%|██████████| 152/152 [00:00<00:00, 472247.56it/s]"
     ]
    },
    {
     "name": "stdout",
     "output_type": "stream",
     "text": [
      "variance_hud： [0.634, 0.093, 0.069, 0.029, 0.023, 0.016, 0.014, 0.013, 0.01, 0.008, 0.007, 0.007, 0.006, 0.006, 0.005, 0.004, 0.004, 0.004, 0.004, 0.003, 0.003, 0.003, 0.003, 0.002, 0.002, 0.002, 0.002, 0.002, 0.001, 0.001, 0.001, 0.001, 0.001, 0.001, 0.001, 0.001, 0.001, 0.001, 0.001, 0.001, 0.001, 0.001, 0.001, 0.001, 0.0, 0.0, 0.0, 0.0, 0.0, 0.0, 0.0, 0.0, 0.0, 0.0, 0.0, 0.0, 0.0, 0.0, 0.0, 0.0, 0.0, 0.0, 0.0, 0.0, 0.0, 0.0, 0.0, 0.0, 0.0, 0.0, 0.0, 0.0, 0.0, 0.0, 0.0, 0.0, 0.0, 0.0, 0.0, 0.0, 0.0, 0.0, 0.0, 0.0, 0.0, 0.0, 0.0, 0.0, 0.0, 0.0, 0.0, 0.0, 0.0, 0.0, 0.0, 0.0, 0.0, 0.0, 0.0, 0.0, 0.0, 0.0, 0.0, 0.0, 0.0, 0.0, 0.0, 0.0, 0.0, 0.0, 0.0, 0.0, 0.0, 0.0, 0.0, 0.0, 0.0, 0.0, 0.0, 0.0, 0.0, 0.0, 0.0, 0.0, 0.0, 0.0, 0.0, 0.0, 0.0, 0.0, 0.0, 0.0, 0.0, 0.0, 0.0, 0.0, 0.0, 0.0, 0.0, 0.0, 0.0, 0.0, 0.0, 0.0, 0.0, 0.0, 0.0, 0.0, 0.0, 0.0, 0.0, 0.0]\n"
     ]
    },
    {
     "name": "stderr",
     "output_type": "stream",
     "text": [
      "\n"
     ]
    }
   ],
   "source": [
    "sum_given = 0\n",
    "sum_given = sum(lambda_i)\n",
    "variance_hud = []\n",
    "for i in tqdm(range(m)):\n",
    "    if i <= m:\n",
    "        variance_hud.append(lambda_i[i] / sum_given)\n",
    "    else:\n",
    "        break\n",
    "variance_hud = [round(i, 3) for i in variance_hud]\n",
    "print('variance_hud：', variance_hud)"
   ]
  },
  {
   "cell_type": "code",
   "execution_count": 622,
   "id": "brutal-wages",
   "metadata": {},
   "outputs": [
    {
     "name": "stderr",
     "output_type": "stream",
     "text": [
      "100%|██████████| 152/152 [00:00<00:00, 773706.56it/s]\n",
      "  3%|▎         | 5/152 [00:00<00:00, 5567.17it/s]\n",
      "100%|██████████| 6/6 [00:00<00:00, 37117.73it/s]"
     ]
    },
    {
     "name": "stdout",
     "output_type": "stream",
     "text": [
      "贡献率85%以上的主元个数为： 6\n"
     ]
    },
    {
     "name": "stderr",
     "output_type": "stream",
     "text": [
      "\n"
     ]
    }
   ],
   "source": [
    "leiji_1 = []\n",
    "new_value = 0\n",
    "for i in tqdm(range(0, m)):\n",
    "    if i <= m:\n",
    "        new_value = new_value + variance_hud[i]\n",
    "        leiji_1.append(new_value)\n",
    "    else:\n",
    "        break\n",
    "\n",
    "totalvar = 0\n",
    "for i in tqdm(range(m)):\n",
    "    totalvar = totalvar + lambda1[i] / sum(a)\n",
    "    if totalvar >= 0.85:\n",
    "        k = i + 1\n",
    "        break\n",
    "PCnum = k\n",
    "PC = np.eye(m, k)\n",
    "for j in tqdm(range(k)):\n",
    "    wt = a.tolist().index(lambda1[j])\n",
    "    PC[:, j:j + 1] = b[:, wt:wt + 1]\n",
    "#print('成分矩阵：', PC)\n",
    "print('贡献率85%以上的主元个数为：', k)\n",
    "\n"
   ]
  },
  {
   "cell_type": "code",
   "execution_count": 623,
   "id": "white-palmer",
   "metadata": {},
   "outputs": [],
   "source": [
    "df_cfjz = pd.DataFrame(PC)\n",
    "\n",
    "F = f.ppf(1 - 0.05, k, n - 1)\n",
    "T2 = k * (n - 1) * F / (n - k)\n",
    "ST1 = 0\n",
    "ST2 = 0\n",
    "ST3 = 0\n",
    "for i in range(k - 1, m):\n",
    "    ST1 = ST1 + lambda1[i]\n",
    "    ST2 = ST2 + lambda1[i] * lambda1[i]\n",
    "    ST3 = ST3 + lambda1[i] * lambda1[i] * lambda1[i]\n",
    "h0 = 1 - 2 * ST1 * ST3 / (3 * pow(ST2, 2))\n",
    "Ca = 1.6449\n",
    "SPE = ST1 * pow(Ca * pow(2 * ST2 * pow(h0, 2), 0.5) / ST1 + 1 + ST2 * h0 * (h0 - 1) / pow(ST1, 2),\n",
    "                1 / h0) \n",
    "\n",
    "m1 = test_data.shape[1]\n",
    "n1 = test_data.shape[0]\n",
    "test_data = np.array(test_data)\n",
    "I = np.eye(m)\n",
    "PC1 = np.transpose(PC)\n",
    "SPEa = np.arange(n1).reshape(1, n1)\n",
    "SPEa = np.double(SPEa)\n",
    "TT2a = np.arange(n1).reshape(1, n1)\n",
    "TT2a = np.double(TT2a)\n",
    "DL = np.diag(lambda1[0:k])\n",
    "DLi = np.linalg.inv(DL) "
   ]
  },
  {
   "cell_type": "code",
   "execution_count": 624,
   "id": "controlling-rover",
   "metadata": {},
   "outputs": [],
   "source": [
    "for i in range(n1):\n",
    "    xnew = (test_data[i, :] - S_mean) / S_var\n",
    "    xnew1 = np.transpose(xnew)\n",
    "    PC1 = np.transpose(PC)\n",
    "    XPC = np.dot(xnew, PC)\n",
    "    XPCPC1 = np.dot(XPC, PC1)\n",
    "    XXPCPC1 = xnew - XPCPC1\n",
    "    SPEa[0, i] = np.dot(XXPCPC1, XXPCPC1)\n",
    "    XPi = np.dot(XPC, DLi)\n",
    "    XPiP = np.dot(XPi, PC1)\n",
    "    TT2a[0, i] = np.dot(XPiP, xnew1)\n",
    "\n",
    "SPEa = SPEa[0]\n",
    "#print('spe统计量的值：', SPEa)\n",
    "# df_spe.to_csv('SPE.csv')\n",
    "TT2a = TT2a[0]\n",
    "#print('t2统计量的值：', TT2a)\n",
    "# df_T2.to_csv('T2.csv')"
   ]
  },
  {
   "cell_type": "code",
   "execution_count": 625,
   "id": "individual-suffering",
   "metadata": {
    "tags": []
   },
   "outputs": [
    {
     "data": {
      "text/plain": [
       "[<matplotlib.lines.Line2D at 0x7f6cfd846a90>]"
      ]
     },
     "execution_count": 625,
     "metadata": {},
     "output_type": "execute_result"
    },
    {
     "data": {
      "image/png": "[encoded data removed]",
      "text/plain": [
       "<Figure size 432x288 with 1 Axes>"
      ]
     },
     "metadata": {
      "needs_background": "light"
     },
     "output_type": "display_data"
    }
   ],
   "source": [
    "plt.plot(SPEa)"
   ]
  },
  {
   "cell_type": "code",
   "execution_count": 626,
   "id": "multiple-escape",
   "metadata": {},
   "outputs": [
    {
     "data": {
      "text/plain": [
       "[<matplotlib.lines.Line2D at 0x7f6cfd7cbc18>]"
      ]
     },
     "execution_count": 626,
     "metadata": {},
     "output_type": "execute_result"
    },
    {
     "data": {
      "image/png": "[encoded data removed]",
      "text/plain": [
       "<Figure size 432x288 with 1 Axes>"
      ]
     },
     "metadata": {
      "needs_background": "light"
     },
     "output_type": "display_data"
    }
   ],
   "source": [
    "plt.plot(TT2a)"
   ]
  },
  {
   "cell_type": "code",
   "execution_count": 627,
   "id": "moving-revolution",
   "metadata": {},
   "outputs": [],
   "source": [
    "from sklearn.metrics import accuracy_score\n",
    "from sklearn.metrics import recall_score"
   ]
  },
  {
   "cell_type": "code",
   "execution_count": 628,
   "id": "written-bridge",
   "metadata": {
    "tags": []
   },
   "outputs": [
    {
     "name": "stdout",
     "output_type": "stream",
     "text": [
      "acc 0.9422433035714286\n",
      "recall 0.9986876640419947\n"
     ]
    }
   ],
   "source": [
    "prediction = 0.5-0.5*np.sign(SPEa-50)\n",
    "acc = accuracy_score(test_labels,prediction)\n",
    "recall = recall_score(1-test_labels,1-prediction)\n",
    "print('acc',acc)\n",
    "print('recall',recall)"
   ]
  },
  {
   "cell_type": "code",
   "execution_count": 629,
   "id": "floating-rachel",
   "metadata": {},
   "outputs": [],
   "source": [
    "#Result[N_train/N] = [acc,recall]"
   ]
  },
  {
   "cell_type": "code",
   "execution_count": 637,
   "id": "administrative-point",
   "metadata": {},
   "outputs": [
    {
     "name": "stdout",
     "output_type": "stream",
     "text": [
      "[  10.   35.   71.  143.  358.  716. 3580.]\n"
     ]
    },
    {
     "data": {
      "text/plain": [
       "{0.0013958682300390843: [0.8255241822756499, 0.9309711286089237],\n",
       " 0.004885538805136795: [0.9031420956655912, 0.9439632545931758],\n",
       " 0.009910664433277499: [0.9125898773438601, 0.9728346456692913],\n",
       " 0.019960915689558906: [0.9212647770972795, 0.9795275590551181],\n",
       " 0.04997208263539922: [0.9360417278871582, 0.9791338582677167],\n",
       " 0.09994416527079844: [0.9325062034739455, 0.9607611548556431],\n",
       " 0.4997208263539922: [0.9433872767857142, 0.9876640419947507]}"
      ]
     },
     "metadata": {},
     "output_type": "display_data"
    }
   ],
   "source": [
    "print(np.array(list(Result.keys()))*N)\n",
    "#print(Result[N_train/N])\n",
    "display(Result)"
   ]
  },
  {
   "cell_type": "code",
   "execution_count": 631,
   "id": "marine-impossible",
   "metadata": {},
   "outputs": [],
   "source": [
    "#Result = {}"
   ]
  },
  {
   "cell_type": "code",
   "execution_count": 635,
   "id": "going-authority",
   "metadata": {
    "tags": []
   },
   "outputs": [
    {
     "name": "stderr",
     "output_type": "stream",
     "text": [
      "100%|██████████| 152/152 [00:00<00:00, 240578.95it/s]\n",
      "100%|██████████| 152/152 [00:00<00:00, 273033.92it/s]\n",
      "  3%|▎         | 5/152 [00:00<00:00, 5216.80it/s]\n",
      "100%|██████████| 6/6 [00:00<00:00, 12433.71it/s]\n",
      "100%|██████████| 152/152 [00:00<00:00, 290448.39it/s]\n",
      "100%|██████████| 152/152 [00:00<00:00, 303154.64it/s]\n",
      "  3%|▎         | 5/152 [00:00<00:00, 5895.84it/s]\n",
      "100%|██████████| 6/6 [00:00<00:00, 14298.76it/s]\n",
      "100%|██████████| 152/152 [00:00<00:00, 280481.39it/s]\n",
      "100%|██████████| 152/152 [00:00<00:00, 300157.35it/s]\n",
      "  3%|▎         | 5/152 [00:00<00:00, 5848.17it/s]\n",
      "100%|██████████| 6/6 [00:00<00:00, 13774.40it/s]\n",
      "100%|██████████| 152/152 [00:00<00:00, 285889.78it/s]\n",
      "100%|██████████| 152/152 [00:00<00:00, 294337.12it/s]\n",
      "  3%|▎         | 5/152 [00:00<00:00, 5836.77it/s]\n",
      "100%|██████████| 6/6 [00:00<00:00, 13942.28it/s]\n",
      "100%|██████████| 152/152 [00:00<00:00, 283474.53it/s]\n",
      "100%|██████████| 152/152 [00:00<00:00, 301007.65it/s]\n",
      "  3%|▎         | 5/152 [00:00<00:00, 5831.90it/s]\n",
      "100%|██████████| 6/6 [00:00<00:00, 14051.27it/s]\n",
      "100%|██████████| 152/152 [00:00<00:00, 284867.83it/s]\n",
      "100%|██████████| 152/152 [00:00<00:00, 298890.86it/s]\n",
      "  3%|▎         | 5/152 [00:00<00:00, 5761.41it/s]\n",
      "100%|██████████| 6/6 [00:00<00:00, 13819.78it/s]\n",
      "100%|██████████| 152/152 [00:00<00:00, 269001.78it/s]\n",
      "100%|██████████| 152/152 [00:00<00:00, 297218.74it/s]\n",
      "  3%|▎         | 5/152 [00:00<00:00, 5733.06it/s]\n",
      "100%|██████████| 6/6 [00:00<00:00, 13595.80it/s]\n",
      "100%|██████████| 152/152 [00:00<00:00, 280358.05it/s]\n",
      "100%|██████████| 152/152 [00:00<00:00, 297218.74it/s]\n",
      "  3%|▎         | 5/152 [00:00<00:00, 5759.82it/s]\n",
      "100%|██████████| 6/6 [00:00<00:00, 13865.47it/s]\n",
      "100%|██████████| 152/152 [00:00<00:00, 276467.57it/s]\n",
      "100%|██████████| 152/152 [00:00<00:00, 298331.40it/s]\n",
      "  3%|▎         | 5/152 [00:00<00:00, 5804.46it/s]\n",
      "100%|██████████| 6/6 [00:00<00:00, 13804.62it/s]\n",
      "100%|██████████| 152/152 [00:00<00:00, 283600.63it/s]\n",
      "100%|██████████| 152/152 [00:00<00:00, 295976.88it/s]\n",
      "  3%|▎         | 5/152 [00:00<00:00, 5838.40it/s]\n",
      "100%|██████████| 6/6 [00:00<00:00, 13336.42it/s]\n"
     ]
    }
   ],
   "source": [
    "acc_=0\n",
    "recall_=0\n",
    "ave_n=10\n",
    "#N_train=\n",
    "for ep in range(ave_n):\n",
    "    SPEa = SPE_calcu(N_train,'Wafer')\n",
    "    prediction = 0.5-0.5*np.sign(SPEa-52)\n",
    "    acc_ += accuracy_score(test_labels,prediction)\n",
    "    recall_ += recall_score(1-test_labels,1-prediction)\n",
    "\n",
    "Result[N_train/N] = [acc_/ave_n,recall_/ave_n]"
   ]
  },
  {
   "cell_type": "code",
   "execution_count": 403,
   "id": "instant-doubt",
   "metadata": {
    "tags": []
   },
   "outputs": [],
   "source": [
    "def SPE_calcu(N_train,dataset_name = 'ItalyPowerDemand'): #'Wafer'\n",
    "\n",
    "    Dataset,labels,train_data,train_labels,test_data,test_labels = read_dataset(dataset_name, N_train)\n",
    "    N,L = Dataset.shape\n",
    "\n",
    "    m = L  \n",
    "    n = N_train\n",
    "\n",
    "    S_mean = np.mean(train_data, axis=0)\n",
    "    S_mean = np.array(S_mean)\n",
    "    S_var = np.std(train_data, ddof=1)\n",
    "    S_var = np.array(S_var)\n",
    "    train_data -= S_mean\n",
    "    train_data /= S_var\n",
    "    train_data = np.where(train_data < 1e6, train_data, 0.0) \n",
    "    X_new = train_data\n",
    "\n",
    "    X_new = np.transpose(X_new)\n",
    "    Z = np.dot(X_new, train_data / (n - 1))\n",
    "\n",
    "    a, b = np.linalg.eig(Z)\n",
    "    lambda1 = sorted(a, reverse=True)\n",
    "    lambda_i = [round(i, 3) for i in lambda1]\n",
    "\n",
    "    sum_given = 0\n",
    "    sum_given = sum(lambda_i)\n",
    "    variance_hud = []\n",
    "    for i in tqdm(range(m)):\n",
    "        if i <= m:\n",
    "            variance_hud.append(lambda_i[i] / sum_given)\n",
    "        else:\n",
    "            break\n",
    "    variance_hud = [round(i, 3) for i in variance_hud]\n",
    "    #print('variance_hud：', variance_hud)\n",
    "\n",
    "    leiji_1 = []\n",
    "    new_value = 0\n",
    "    for i in tqdm(range(0, m)):\n",
    "        if i <= m:\n",
    "            new_value = new_value + variance_hud[i]\n",
    "            leiji_1.append(new_value)\n",
    "        else:\n",
    "            break\n",
    "\n",
    "    totalvar = 0\n",
    "    for i in tqdm(range(m)):\n",
    "        totalvar = totalvar + lambda1[i] / sum(a)\n",
    "        if totalvar >= 0.85:\n",
    "            k = i + 1\n",
    "            break\n",
    "    PCnum = k\n",
    "    PC = np.eye(m, k)\n",
    "    for j in tqdm(range(k)):\n",
    "        wt = a.tolist().index(lambda1[j])\n",
    "        PC[:, j:j + 1] = b[:, wt:wt + 1]\n",
    "\n",
    "\n",
    "    df_cfjz = pd.DataFrame(PC)\n",
    "\n",
    "    F = f.ppf(1 - 0.05, k, n - 1)\n",
    "    T2 = k * (n - 1) * F / (n - k)\n",
    "    ST1 = 0\n",
    "    ST2 = 0\n",
    "    ST3 = 0\n",
    "    for i in range(k - 1, m):\n",
    "        ST1 = ST1 + lambda1[i]\n",
    "        ST2 = ST2 + lambda1[i] * lambda1[i]\n",
    "        ST3 = ST3 + lambda1[i] * lambda1[i] * lambda1[i]\n",
    "    h0 = 1 - 2 * ST1 * ST3 / (3 * pow(ST2, 2))\n",
    "    Ca = 1.6449\n",
    "    SPE = ST1 * pow(Ca * pow(2 * ST2 * pow(h0, 2), 0.5) / ST1 + 1 + ST2 * h0 * (h0 - 1) / pow(ST1, 2),\n",
    "                    1 / h0) \n",
    "\n",
    "    m1 = test_data.shape[1]\n",
    "    n1 = test_data.shape[0]\n",
    "    test_data = np.array(test_data)\n",
    "    I = np.eye(m)\n",
    "    PC1 = np.transpose(PC)\n",
    "    SPEa = np.arange(n1).reshape(1, n1)\n",
    "    SPEa = np.double(SPEa)\n",
    "    TT2a = np.arange(n1).reshape(1, n1)\n",
    "    TT2a = np.double(TT2a)\n",
    "    DL = np.diag(lambda1[0:k])\n",
    "    DLi = np.linalg.inv(DL) \n",
    "\n",
    "    for i in range(n1):\n",
    "        xnew = (test_data[i, :] - S_mean) / S_var\n",
    "        xnew1 = np.transpose(xnew)\n",
    "        PC1 = np.transpose(PC)\n",
    "        XPC = np.dot(xnew, PC)\n",
    "        XPCPC1 = np.dot(XPC, PC1)\n",
    "        XXPCPC1 = xnew - XPCPC1\n",
    "        SPEa[0, i] = np.dot(XXPCPC1, XXPCPC1)\n",
    "        XPi = np.dot(XPC, DLi)\n",
    "        XPiP = np.dot(XPi, PC1)\n",
    "        TT2a[0, i] = np.dot(XPiP, xnew1)\n",
    "\n",
    "    SPEa = SPEa[0]\n",
    "    TT2a = TT2a[0]\n",
    "\n",
    "    return SPEa"
   ]
  },
  {
   "cell_type": "code",
   "execution_count": null,
   "id": "olive-compiler",
   "metadata": {},
   "outputs": [],
   "source": []
  }
 ],
 "metadata": {
  "kernelspec": {
   "display_name": "Python 3",
   "language": "python",
   "name": "python3"
  },
  "language_info": {
   "codemirror_mode": {
    "name": "ipython",
    "version": 3
   },
   "file_extension": ".py",
   "mimetype": "text/x-python",
   "name": "python",
   "nbconvert_exporter": "python",
   "pygments_lexer": "ipython3",
   "version": "3.6.9"
  }
 },
 "nbformat": 4,
 "nbformat_minor": 5
}
