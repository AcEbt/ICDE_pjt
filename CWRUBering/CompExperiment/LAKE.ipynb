{
 "cells": [
  {
   "cell_type": "code",
   "execution_count": 104,
   "metadata": {},
   "outputs": [],
   "source": [
    "import numpy as np \n",
    "import pandas as pd\n",
    "from sklearn.neighbors import KernelDensity\n",
    "from sklearn.metrics import precision_recall_fscore_support as prf, accuracy_score\n",
    "from sklearn.metrics import accuracy_score\n",
    "from sklearn.metrics import recall_score\n",
    "import torch\n",
    "from torch.nn import functional as F\n",
    "from torch.utils.data import Dataset\n",
    "from torch.utils.data import DataLoader\n",
    "import torch.nn as nn"
   ]
  },
  {
   "cell_type": "code",
   "execution_count": 2,
   "metadata": {},
   "outputs": [],
   "source": [
    "import os\n",
    "import sys\n",
    "import sklearn\n",
    "import os.path\n",
    "import matplotlib.pyplot as plt"
   ]
  },
  {
   "cell_type": "code",
   "execution_count": 3,
   "metadata": {},
   "outputs": [],
   "source": [
    "from tqdm import tqdm"
   ]
  },
  {
   "cell_type": "code",
   "execution_count": 4,
   "metadata": {},
   "outputs": [],
   "source": [
    "#np.random.seed(10)"
   ]
  },
  {
   "cell_type": "code",
   "execution_count": 5,
   "metadata": {},
   "outputs": [],
   "source": [
    "def read_dataset(dataset_name):\n",
    "    \n",
    "    base_dir = os.path.dirname(os.path.realpath('__file__'))\n",
    "    archive_name = 'UCRArchive'\n",
    "    \n",
    "    root_dir_dataset = base_dir + '/' + archive_name + '/' + dataset_name\n",
    "    \n",
    "    df_train = pd.read_csv(root_dir_dataset + '/' + dataset_name + '_TRAIN.tsv', sep='\\t', header=None)\n",
    "    \n",
    "    df_test = pd.read_csv(root_dir_dataset + '/' + dataset_name + '_TEST.tsv', sep='\\t', header=None)\n",
    "    \n",
    "    y_train = df_train.values[:, 0]\n",
    "    y_test = df_test.values[:, 0]\n",
    "    \n",
    "    x_train = df_train.drop(columns=[0])\n",
    "    x_test = df_test.drop(columns=[0])\n",
    "    \n",
    "    x_train.columns = range(x_train.shape[1])\n",
    "    x_test.columns = range(x_test.shape[1])\n",
    "    \n",
    "    x_train = x_train.values\n",
    "    x_test = x_test.values\n",
    "    \n",
    "    \n",
    "    labels = np.hstack((y_train, y_test)).astype(int)\n",
    "    _, labels = np.unique(labels, return_inverse=True)\n",
    "    features = np.vstack((x_train, x_test))\n",
    "    \n",
    "    \n",
    "    n_ = features.shape[0]\n",
    "    shuffle_id = np.random.permutation(np.arange(n_))\n",
    "    Dataset = features[shuffle_id]\n",
    "    label = labels[shuffle_id]\n",
    "    \n",
    "    return Dataset,label"
   ]
  },
  {
   "cell_type": "code",
   "execution_count": 6,
   "metadata": {},
   "outputs": [],
   "source": [
    "class ArrhythmiaLoader(object):\n",
    "    def __init__(self, dataset_name, N_train, mode=\"train\"):\n",
    "        self.mode=mode\n",
    "        \n",
    "        features,labels = read_dataset(dataset_name)\n",
    "\n",
    "        N, D = features.shape\n",
    "        \n",
    "        normal_data = features[labels==0]\n",
    "        normal_labels = labels[labels==0]\n",
    "\n",
    "        N_normal = normal_data.shape[0]\n",
    "\n",
    "        attack_data = features[labels==1]\n",
    "        attack_labels = labels[labels==1]\n",
    "\n",
    "        N_attack = attack_data.shape[0]\n",
    "\n",
    "        randIdx = np.arange(N_attack)\n",
    "        np.random.shuffle(randIdx)\n",
    "        self.N_train = N_train\n",
    "        self.train = attack_data[randIdx[:self.N_train]]\n",
    "        self.train_labels = attack_labels[randIdx[:self.N_train]]\n",
    "        \n",
    "        self.test = attack_data[randIdx[self.N_train:]]\n",
    "        self.test_labels = attack_labels[randIdx[self.N_train:]]\n",
    "        \n",
    "        self.test = np.concatenate((self.test, normal_data),axis=0)\n",
    "        self.test_labels = np.concatenate((self.test_labels, normal_labels),axis=0)\n",
    "\n",
    "\n",
    "    def __len__(self):\n",
    "        \"\"\"\n",
    "        Number of images in the object dataset.\n",
    "        \"\"\"\n",
    "        if self.mode == \"train\":\n",
    "            return self.train.shape[0]\n",
    "        else:\n",
    "            return self.test.shape[0]\n",
    "\n",
    "\n",
    "    def __getitem__(self, index):\n",
    "        if self.mode == \"train\":\n",
    "            return np.float32(self.train[index]), np.float32(self.train_labels[index])\n",
    "        else:\n",
    "            return np.float32(self.test[index]), np.float32(self.test_labels[index])  "
   ]
  },
  {
   "cell_type": "code",
   "execution_count": 7,
   "metadata": {},
   "outputs": [],
   "source": [
    "def get_loader(dataset_name, batch_size, N_train, mode='train'):\n",
    "    \"\"\"Build and return data loader.\"\"\"\n",
    "    \n",
    "    dataset = ArrhythmiaLoader(dataset_name, N_train, mode)\n",
    "\n",
    "    shuffle = False\n",
    "    if mode == 'train':\n",
    "        shuffle = True\n",
    "\n",
    "    data_loader = DataLoader(dataset=dataset,\n",
    "                             batch_size=batch_size,\n",
    "                             shuffle=shuffle)\n",
    "    return data_loader"
   ]
  },
  {
   "cell_type": "code",
   "execution_count": 8,
   "metadata": {},
   "outputs": [],
   "source": [
    "def loss_function(recon_x, x, mu, logvar, enc, z,  enc_1, enc_2, enc_3, z_3, z_2, z_1):\n",
    "    #BCE = F.binary_cross_entropy(recon_x, x, reduction='sum')\n",
    "    criterion_elementwise_mean = nn.MSELoss(reduction='sum')\n",
    "    BCE_x = criterion_elementwise_mean(recon_x,x)\n",
    "    BCE_z = criterion_elementwise_mean(enc,z)\n",
    "    BCE_z_1 = criterion_elementwise_mean(enc_1,z_1)\n",
    "    BCE_z_2 = criterion_elementwise_mean(enc_2,z_2)\n",
    "    BCE_z_3 = criterion_elementwise_mean(enc_3,z_3)\n",
    "    # see Appendix B from VAE paper:\n",
    "    # Kingma and Welling. Auto-Encoding Variational Bayes. ICLR, 2014\n",
    "    # https://arxiv.org/abs/1312.6114\n",
    "    # 0.5 * sum(1 + log(sigma^2) - mu^2 - sigma^2)\n",
    "    KLD = -0.5 * torch.sum(1 + logvar - mu.pow(2) - logvar.exp())\n",
    "\n",
    "    return BCE_x + BCE_z + BCE_z_1 + BCE_z_2 + BCE_z_3 + KLD"
   ]
  },
  {
   "cell_type": "code",
   "execution_count": 904,
   "metadata": {},
   "outputs": [],
   "source": [
    "dataset_name = 'ItalyPowerDemand'\n",
    "batch_size = 32\n",
    "learn_rate = 1e-4\n",
    "Dataset,label = read_dataset(dataset_name)\n",
    "All_train = Dataset.shape[0]"
   ]
  },
  {
   "cell_type": "code",
   "execution_count": 905,
   "metadata": {},
   "outputs": [
    {
     "data": {
      "text/plain": [
       "(1096, 24)"
      ]
     },
     "execution_count": 905,
     "metadata": {},
     "output_type": "execute_result"
    }
   ],
   "source": [
    "Dataset.shape"
   ]
  },
  {
   "cell_type": "code",
   "execution_count": 1262,
   "metadata": {},
   "outputs": [],
   "source": [
    "class VAE(nn.Module):\n",
    "    def __init__(self):\n",
    "        super(VAE,self).__init__()\n",
    "        self.enc_1 = nn.Linear(24,50)\n",
    "        self.enc_2 = nn.Linear(50,50)\n",
    "        self.enc_3 = nn.Linear(50,10)\n",
    "        self.enc = nn.Linear(10,2)\n",
    "        \n",
    "        self.act = nn.ReLU()\n",
    "        self.act_s = nn.Sigmoid()\n",
    "        self.mu = nn.Linear(2,1)\n",
    "        self.log_var = nn.Linear(2,1)\n",
    "        \n",
    "        self.z = nn.Linear(1,2)\n",
    "        self.z_3 = nn.Linear(2,10)\n",
    "        self.z_2 = nn.Linear(10,50)\n",
    "        self.z_1 = nn.Linear(50,50)\n",
    "        self.dec = nn.Linear(50,24)\n",
    "    def reparameterize(self, mu, log_var):\n",
    "        std = torch.exp(log_var/2)\n",
    "        eps = torch.randn_like(std)\n",
    "        return mu + eps * std\n",
    "    def forward(self,x):\n",
    "        enc_1 = self.enc_1(x)\n",
    "        enc_2 = self.act(enc_1)\n",
    "        enc_2 = self.enc_2(enc_2)\n",
    "        enc_3 = self.act(enc_2)\n",
    "        enc_3 = self.enc_3(enc_3)\n",
    "        enc = self.act(enc_3)\n",
    "        enc = self.enc(enc_3)\n",
    "        enc = self.act(enc)\n",
    "        \n",
    "        mu = self.mu(enc)\n",
    "        log_var = self.log_var(enc)\n",
    "        o = self.reparameterize(mu,log_var)\n",
    "        z = self.z(o)\n",
    "        z_3 = self.z_3(z)\n",
    "        z_2 = self.act(z_3)\n",
    "        z_2 = self.z_2(z_2)\n",
    "        z_1 = self.act(z_2)\n",
    "        z_1 = self.z_1(z_1)\n",
    "        dec = self.dec(z_1)\n",
    "        return enc_1, enc_2, enc_3, enc, mu, log_var, o, z, z_3, z_2, z_1, dec"
   ]
  },
  {
   "cell_type": "code",
   "execution_count": 1263,
   "metadata": {},
   "outputs": [],
   "source": [
    "def relative_euclidean_distance(a, b):\n",
    "    return (a-b).norm(2, dim=1) / a.norm(2, dim=1)"
   ]
  },
  {
   "cell_type": "code",
   "execution_count": 1288,
   "metadata": {},
   "outputs": [],
   "source": [
    "result = []\n",
    "diff_quantity_result= {}"
   ]
  },
  {
   "cell_type": "code",
   "execution_count": 1536,
   "metadata": {},
   "outputs": [
    {
     "name": "stdout",
     "output_type": "stream",
     "text": [
      "10\n"
     ]
    }
   ],
   "source": [
    "Ratio = 0.01\n",
    "iter_per_epoch = 200\n",
    "batch_size = 32\n",
    "N_train = int(All_train*Ratio)\n",
    "print(N_train)\n",
    "#Ratio = N_train/All_train\n",
    "\n",
    "#for epoch in tqdm(range(Average_cycle)):\n",
    "\n",
    "data_loader_train = get_loader(dataset_name, batch_size, N_train, mode='train')\n",
    "data_loader_test = get_loader(dataset_name, batch_size, N_train, mode='test')\n"
   ]
  },
  {
   "cell_type": "code",
   "execution_count": 1537,
   "metadata": {},
   "outputs": [],
   "source": [
    "vae = VAE()"
   ]
  },
  {
   "cell_type": "code",
   "execution_count": 1540,
   "metadata": {
    "tags": []
   },
   "outputs": [
    {
     "name": "stderr",
     "output_type": "stream",
     "text": [
      "100%|██████████| 1000/1000 [00:02<00:00, 372.55it/s]\n"
     ]
    }
   ],
   "source": [
    "optimizer = torch.optim.Adam(vae.parameters(),lr=2e-5)\n",
    "for i in tqdm(range(1000)):\n",
    "    for j ,(input_data, labels)  in enumerate(data_loader_train):\n",
    "        enc_1, enc_2, enc_3, enc, mu, log_var, o, z, z_3, z_2, z_1, dec = vae(input_data)\n",
    "        optimizer.zero_grad()\n",
    "        loss = loss_function(dec, input_data, mu, log_var, enc, z, enc_1, enc_2, enc_3, z_3, z_2, z_1)\n",
    "        loss.backward()\n",
    "        optimizer.step()"
   ]
  },
  {
   "cell_type": "code",
   "execution_count": 1541,
   "metadata": {},
   "outputs": [],
   "source": [
    "train_enc = []\n",
    "train_labels = []\n",
    "test_enc = []\n",
    "test_labels = []\n",
    "\n",
    "for i ,(input_data, labels)  in enumerate(data_loader_train):\n",
    "    enc_1, enc_2, enc_3, enc, mu, log_var, o, z, z_3, z_2, z_1, dec = vae(input_data)\n",
    "    rec_euclidean = relative_euclidean_distance(input_data, dec)\n",
    "    rec_cosine = F.cosine_similarity(input_data, dec, dim=1)\n",
    "\n",
    "    #enc = torch.cat([enc, rec_euclidean.unsqueeze(-1), rec_cosine.unsqueeze(-1)], dim=1)\n",
    "    enc = torch.cat([enc, rec_euclidean.unsqueeze(-1)], dim=1)\n",
    "    enc = enc.detach().numpy()\n",
    "\n",
    "    train_enc.append(enc)\n",
    "for i ,(input_data, labels)  in enumerate(data_loader_test):\n",
    "    enc_1, enc_2, enc_3, enc, mu, log_var, o, z, z_3, z_2, z_1, dec = vae(input_data)\n",
    "    rec_euclidean = relative_euclidean_distance(input_data, dec)\n",
    "    rec_cosine = F.cosine_similarity(input_data, dec, dim=1)\n",
    "\n",
    "    #enc = torch.cat([enc, rec_euclidean.unsqueeze(-1), rec_cosine.unsqueeze(-1)], dim=1)\n",
    "    enc = torch.cat([enc, rec_euclidean.unsqueeze(-1)], dim=1)\n",
    "    enc = enc.detach().numpy()\n",
    "\n",
    "    test_enc.append(enc)\n",
    "\n",
    "    test_labels.append(labels.numpy())\n",
    "x =train_enc[0] \n",
    "kde = KernelDensity(kernel='gaussian', bandwidth=0.000001).fit(x)\n",
    "score =  kde.score_samples(x)\n",
    "k = len(test_enc)\n",
    "test_score = []\n",
    "for i in range (k):\n",
    "    score = kde.score_samples(test_enc[i])\n",
    "    test_score.append(score)\n",
    "test_labels = np.concatenate(test_labels,axis=0)\n",
    "test_score = np.concatenate(test_score,axis=0)"
   ]
  },
  {
   "cell_type": "code",
   "execution_count": 1544,
   "metadata": {},
   "outputs": [
    {
     "name": "stdout",
     "output_type": "stream",
     "text": [
      "[0.6335174953959485, 0.6928702010968921]\n"
     ]
    }
   ],
   "source": [
    "thresh = -6*1e8\n",
    "pred = 1-(test_score < thresh).astype(int)\n",
    "gt = test_labels.astype(int)\n",
    "accuracy = accuracy_score(1-gt,1-pred)\n",
    "recall = recall_score(1-gt,1-pred)\n",
    "#precision, recall, f_score, support = prf(1-gt, 1-pred, average='binary')\n",
    "temp_result = [accuracy,recall]\n",
    "#result.append(temp_result)\n",
    "\n",
    "#end_result = np.mean(result,axis=0)\n",
    "#diff_quantity_result.append(end_result)\n",
    "print(temp_result)"
   ]
  },
  {
   "cell_type": "code",
   "execution_count": 1543,
   "metadata": {},
   "outputs": [
    {
     "data": {
      "text/plain": [
       "[<matplotlib.lines.Line2D at 0x7fbaef853780>]"
      ]
     },
     "execution_count": 1543,
     "metadata": {},
     "output_type": "execute_result"
    },
    {
     "data": {
      "image/png": "[encoded data removed]",
      "text/plain": [
       "<Figure size 432x288 with 1 Axes>"
      ]
     },
     "metadata": {
      "needs_background": "light"
     },
     "output_type": "display_data"
    }
   ],
   "source": [
    "plt.plot(test_score)"
   ]
  },
  {
   "cell_type": "code",
   "execution_count": 1458,
   "metadata": {},
   "outputs": [],
   "source": [
    "diff_quantity_result[Ratio] = temp_result"
   ]
  },
  {
   "cell_type": "code",
   "execution_count": 1459,
   "metadata": {},
   "outputs": [
    {
     "data": {
      "text/plain": [
       "{0.01: [0.7992633517495396, 0.8537477148080439],\n",
       " 0.02: [0.8027906976744186, 0.8738574040219378],\n",
       " 0.05: [0.8435700575815739, 0.8848263254113345],\n",
       " 0.1: [0.8247213779128673, 0.8903107861060329]}"
      ]
     },
     "execution_count": 1459,
     "metadata": {},
     "output_type": "execute_result"
    }
   ],
   "source": [
    "diff_quantity_result"
   ]
  },
  {
   "cell_type": "markdown",
   "metadata": {
    "jupyter": {
     "source_hidden": true
    },
    "tags": []
   },
   "source": [
    "## "
   ]
  },
  {
   "cell_type": "code",
   "execution_count": null,
   "metadata": {},
   "outputs": [],
   "source": []
  }
 ],
 "metadata": {
  "kernelspec": {
   "display_name": "Python 3",
   "language": "python",
   "name": "python3"
  },
  "language_info": {
   "codemirror_mode": {
    "name": "ipython",
    "version": 3
   },
   "file_extension": ".py",
   "mimetype": "text/x-python",
   "name": "python",
   "nbconvert_exporter": "python",
   "pygments_lexer": "ipython3",
   "version": "3.6.9"
  }
 },
 "nbformat": 4,
 "nbformat_minor": 4
}
